{
 "cells": [
  {
   "cell_type": "markdown",
   "metadata": {
    "toc": true
   },
   "source": [
    "<h1>Table of Contents<span class=\"tocSkip\"></span></h1>\n",
    "<div class=\"toc\"><ul class=\"toc-item\"><li><span><a href=\"#Data-loading\" data-toc-modified-id=\"Data-loading-1\"><span class=\"toc-item-num\">1&nbsp;&nbsp;</span>Data loading</a></span></li><li><span><a href=\"#Utils\" data-toc-modified-id=\"Utils-2\"><span class=\"toc-item-num\">2&nbsp;&nbsp;</span>Utils</a></span></li><li><span><a href=\"#Data-processing\" data-toc-modified-id=\"Data-processing-3\"><span class=\"toc-item-num\">3&nbsp;&nbsp;</span>Data processing</a></span></li><li><span><a href=\"#Testing-the-strategy\" data-toc-modified-id=\"Testing-the-strategy-4\"><span class=\"toc-item-num\">4&nbsp;&nbsp;</span>Testing the strategy</a></span><ul class=\"toc-item\"><li><span><a href=\"#Naive-strategy\" data-toc-modified-id=\"Naive-strategy-4.1\"><span class=\"toc-item-num\">4.1&nbsp;&nbsp;</span>Naive strategy</a></span></li><li><span><a href=\"#Better-strategy\" data-toc-modified-id=\"Better-strategy-4.2\"><span class=\"toc-item-num\">4.2&nbsp;&nbsp;</span>Better strategy</a></span></li></ul></li></ul></div>"
   ]
  },
  {
   "cell_type": "markdown",
   "metadata": {},
   "source": [
    "# Team Novak\n"
   ]
  },
  {
   "cell_type": "code",
   "execution_count": 23,
   "metadata": {},
   "outputs": [],
   "source": [
    "# Importing libraries\n",
    "\n",
    "import numpy as np\n",
    "import pickle\n",
    "import pandas as pd\n",
    "from nltk import ngrams\n",
    "from aux_functions import *"
   ]
  },
  {
   "cell_type": "markdown",
   "metadata": {},
   "source": [
    "## Data loading\n",
    "\n"
   ]
  },
  {
   "cell_type": "code",
   "execution_count": 26,
   "metadata": {},
   "outputs": [
    {
     "name": "stdout",
     "output_type": "stream",
     "text": [
      "Allowed shots:  ['4', '4+', '5', '6', '6+', 'X', 'b', 'b1', 'b17', 'b18', 'b19', 'b2', 'b27', 'b28', 'b29', 'b3', 'b37', 'b38', 'f', 'f+1', 'f+3', 'f1', 'f18', 'f2', 'f27', 'f28', 'f29', 'f3', 'f37', 'f38', 'r2', 's', 's1', 's2', 's28', 's3', 'v1', 'v3', 'z1', 'z3'] \n",
      "\n",
      "Possible prompts:  ['f3', 'f1', 'b2', 'b1', 'X', 'f2', 'b3', '4', '6', '5', '*', 'b28', 'f28', 'b27', 's2', 'f+3', 's3', 'n@', 'f+1', 'b18', 'd@', 'f38', 'b29', 's1', 'b38', 'f37', '#', 'w@', 'f27', 'f29', 'n#', 'd#', 'f', 'b', 's28', 'b37', 'b17', 'f1*', 'b19', 'b39', 'w#', 'r2', 'f18', 'f39', 'z3', 'v1', 'v3', 'f#', 's27', '4+', '6+', 'z1', 'b1*', 'f3*', 'm2', 'f17', 'r3', 's', 'r1', 's29', 's38', 'b+1', 'z2', 'o3', 'c6', 'v2', 'c4', 'b1w@', 'b#', 'b1n@', 'b+3', 'f19', 'b3*', 'f+2', 'f1w@', 'b3w@', 's37', 's39', 'f3n@', 'f3w@', 'm3', 'f1n@', 'b1d@', 'b2n#', 'f2d@', 'f1n#', 'b1w#', 's#', 'b1n#', 'x@', 'f1w#', 'y3', 'f2d#', 'b2d@', 'f2n#', 'f3d@', 'y1', 'b3w#', 'o1', 'f-3']\n"
     ]
    }
   ],
   "source": [
    "# Historical data\n",
    "\n",
    "df = pd.read_pickle('../data/dataframe.p')\n",
    "\n",
    "# Prompts and shots\n",
    "all_shots = pickle.load(open(\"../data/allowed_shots.p\", \"rb\"))\n",
    "poss_prompts = pickle.load(open(\"../data/possible_prompts.p\" , \"rb\"))\n",
    "\n",
    "print('Allowed shots: ', all_shots, '\\n')\n",
    "print('Possible prompts: ', poss_prompts)"
   ]
  },
  {
   "cell_type": "markdown",
   "metadata": {},
   "source": [
    "## Utils\n",
    "Function to test the strategy, just provide the strategy"
   ]
  },
  {
   "cell_type": "code",
   "execution_count": 27,
   "metadata": {},
   "outputs": [],
   "source": [
    "# Test the strategy and returns the performance\n",
    "def test_strategy(example_policy, number_of_points_played=150000):\n",
    "    serves_opponent = [shot for shot in [sh[0] for sh in shots_opo_com] if shot[0] in '456']\n",
    "\n",
    "    points_won  = 0\n",
    "    points_lost = 0\n",
    "\n",
    "\n",
    "    for num in range(number_of_points_played):\n",
    "        print(num, end = '\\r')\n",
    "        # Random choice on who is serving\n",
    "        if np.random.randint(0,2) == 0 :\n",
    "            current_prompt = 'X'\n",
    "        else :\n",
    "            current_prompt = np.random.choice(serves_opponent)\n",
    "        while True:\n",
    "            shot = np.random.choice(example_policy.get(current_prompt,['5']))\n",
    "            next_prompt = model(current_prompt, shot)\n",
    "            current_prompt = next_prompt\n",
    "            if is_win(current_prompt) == 1:\n",
    "                points_won  += 1\n",
    "                break\n",
    "            if is_win(current_prompt) == 0:\n",
    "                points_lost += 1\n",
    "                break\n",
    "\n",
    "    print('How well are we performing? '     , points_won/(points_lost + points_won))\n",
    "    print('Baseline historical performance: ', 1 - (df['Winner'].sum()/len(df['Winner'])))\n",
    "    return points_won/(points_lost + points_won)"
   ]
  },
  {
   "cell_type": "code",
   "execution_count": null,
   "metadata": {},
   "outputs": [],
   "source": []
  },
  {
   "cell_type": "markdown",
   "metadata": {},
   "source": [
    "## Data processing\n",
    "\n",
    "Generates a dataframe with pair of shots (Nadal/Federer), the outcome and who won the points.\n",
    "\n"
   ]
  },
  {
   "cell_type": "code",
   "execution_count": 28,
   "metadata": {},
   "outputs": [
    {
     "data": {
      "text/html": [
       "<div>\n",
       "<style scoped>\n",
       "    .dataframe tbody tr th:only-of-type {\n",
       "        vertical-align: middle;\n",
       "    }\n",
       "\n",
       "    .dataframe tbody tr th {\n",
       "        vertical-align: top;\n",
       "    }\n",
       "\n",
       "    .dataframe thead th {\n",
       "        text-align: right;\n",
       "    }\n",
       "</style>\n",
       "<table border=\"1\" class=\"dataframe\">\n",
       "  <thead>\n",
       "    <tr style=\"text-align: right;\">\n",
       "      <th></th>\n",
       "      <th>Nadal</th>\n",
       "      <th>Federer</th>\n",
       "      <th>Outcome</th>\n",
       "      <th>Winner</th>\n",
       "    </tr>\n",
       "  </thead>\n",
       "  <tbody>\n",
       "    <tr>\n",
       "      <th>0</th>\n",
       "      <td>4</td>\n",
       "      <td>b;37</td>\n",
       "      <td>*</td>\n",
       "      <td>1</td>\n",
       "    </tr>\n",
       "    <tr>\n",
       "      <th>1</th>\n",
       "      <td>f1</td>\n",
       "      <td>f1</td>\n",
       "      <td>*</td>\n",
       "      <td>1</td>\n",
       "    </tr>\n",
       "    <tr>\n",
       "      <th>2</th>\n",
       "      <td>6</td>\n",
       "      <td>b3</td>\n",
       "      <td>w#</td>\n",
       "      <td>0</td>\n",
       "    </tr>\n",
       "    <tr>\n",
       "      <th>3</th>\n",
       "      <td>6</td>\n",
       "      <td>Z</td>\n",
       "      <td>*</td>\n",
       "      <td>0</td>\n",
       "    </tr>\n",
       "    <tr>\n",
       "      <th>4</th>\n",
       "      <td>5</td>\n",
       "      <td>b18</td>\n",
       "      <td>*</td>\n",
       "      <td>1</td>\n",
       "    </tr>\n",
       "  </tbody>\n",
       "</table>\n",
       "</div>"
      ],
      "text/plain": [
       "  Nadal Federer Outcome  Winner\n",
       "0     4    b;37       *       1\n",
       "1    f1      f1       *       1\n",
       "2     6      b3      w#       0\n",
       "3     6       Z       *       0\n",
       "4     5     b18       *       1"
      ]
     },
     "execution_count": 28,
     "metadata": {},
     "output_type": "execute_result"
    }
   ],
   "source": [
    "#create the table that we said at the beginning\n",
    "\n",
    "#df #['Shots']\n",
    "#df['Server']\n",
    "#for i in df['Shots', 'Server']\n",
    "#    print(i)\n",
    "#df['Shots', 'Server']\n",
    "#df_i = df[['Shots','Server']]\n",
    "all_shots = []\n",
    "nadal = {}\n",
    "for index,row in df.iterrows():\n",
    "    server = row.Server\n",
    "    outcome = row.Outcome\n",
    "    winner = row.Winner\n",
    "    shots = row.Shots.split(' ')\n",
    "    if server == 1:  #Federer\n",
    "        shots = ['x'] + shots\n",
    "        \n",
    "    for i in range(0,len(shots),2):\n",
    "        try:\n",
    "            all_shots.append([shots[i], shots[i+1], outcome, winner])\n",
    "        except:\n",
    "            all_shots.append([shots[i], 'Z', outcome, winner])\n",
    "\n",
    "all_shots_df = pd.DataFrame(all_shots, columns=['Nadal','Federer', 'Outcome', 'Winner'])\n",
    "all_shots_df.head()"
   ]
  },
  {
   "cell_type": "markdown",
   "metadata": {},
   "source": [
    "## Testing the strategy\n",
    "\n",
    "### Naive strategy\n",
    "\n",
    "Simple policy, for each type Nadal shots just fill an array with Federer response.\n",
    "\n",
    "__Outcome__: Federer wins only 10% of the time :("
   ]
  },
  {
   "cell_type": "code",
   "execution_count": null,
   "metadata": {},
   "outputs": [],
   "source": []
  },
  {
   "cell_type": "markdown",
   "metadata": {},
   "source": [
    "### Better strategy\n",
    "\n",
    "- Filter the data and keep only the points won by Federer\n",
    "- Keep only the last pair of the exchange"
   ]
  },
  {
   "cell_type": "code",
   "execution_count": 37,
   "metadata": {},
   "outputs": [],
   "source": [
    "def build_federer_winning_df():\n",
    "    df_f = df[df.Winner==1]\n",
    "\n",
    "    all_lasts = []\n",
    "    for index, row in df_f.iterrows():\n",
    "        server = row.Server\n",
    "        shots = row.Shots.split(' ')\n",
    "        outcome = row.Outcome\n",
    "        #print(server, shots, outcome)\n",
    "        if outcome in ['*', 'w*']:  # Last shot federer\n",
    "            if len(shots) >= 2:\n",
    "                last_nadal = shots[-2]\n",
    "                last_federer = shots[-1]\n",
    "            else:\n",
    "                #print(server, shots, outcome)\n",
    "                continue\n",
    "        else:\n",
    "            if len(shots) >= 3:\n",
    "                last_nadal = shots[-3]\n",
    "                last_federer = shots[-2]\n",
    "            else:\n",
    "                #print(server, shots, outcome)\n",
    "                continue\n",
    "        all_lasts.append([last_nadal, last_federer])\n",
    "    all_lasts_df = pd.DataFrame(all_lasts, columns=['Last Nadal', 'Last Federer'])\n",
    "\n",
    "    return all_lasts_df\n",
    "\n",
    "        \n",
    "def build_federer_strategy(all_lasts_df):\n",
    "    fed_strat = {}\n",
    "    for index, row in all_lasts_df.iterrows():\n",
    "        key = row['Last Nadal']\n",
    "        value = row['Last Federer']\n",
    "        if value not in all_shots:\n",
    "            continue            \n",
    "        if key not in fed_strat.keys():\n",
    "            fed_strat[key] = [value]\n",
    "        else:\n",
    "            fed_strat[key].append(value)\n",
    "    \n",
    "    # add needed prompts\n",
    "    for i in poss_prompts:\n",
    "        if i not in fed_strat.keys():\n",
    "            if i[-1] in ['@','#','*']:\n",
    "                fed_strat[i] = ['']\n",
    "            elif i == 'X':   #Nadal waits for us to serve\n",
    "                fed_strat[i] = ['6']\n",
    "            else:\n",
    "                fed_strat[i] = ['f1']\n",
    "    return fed_strat\n",
    "\n",
    "all_lasts_df = build_federer_winning_df()\n",
    "fed_strat = build_federer_strategy(all_lasts_df)"
   ]
  },
  {
   "cell_type": "code",
   "execution_count": 38,
   "metadata": {},
   "outputs": [
    {
     "name": "stdout",
     "output_type": "stream",
     "text": [
      "{'f3': ['f1'], 'f1': ['f1'], 'b2': ['f1'], 'b1': ['f1'], 'X': ['6'], 'f2': ['f1'], 'b3': ['f1'], '4': ['f1'], '6': ['f1'], '5': ['f1'], '*': [''], 'b28': ['f1'], 'f28': ['f1'], 'b27': ['f1'], 's2': ['f1'], 'f+3': ['f1'], 's3': ['f1'], 'n@': [''], 'f+1': ['f1'], 'b18': ['f1'], 'd@': [''], 'f38': ['f1'], 'b29': ['f1'], 's1': ['f1'], 'b38': ['f1'], 'f37': ['f1'], '#': [''], 'w@': [''], 'f27': ['f1'], 'f29': ['f1'], 'n#': [''], 'd#': [''], 'f': ['f1'], 'b': ['f1'], 's28': ['f1'], 'b37': ['f1'], 'b17': ['f1'], 'f1*': [''], 'b19': ['f1'], 'b39': ['f1'], 'w#': [''], 'r2': ['f1'], 'f18': ['f1'], 'f39': ['f1'], 'z3': ['f1'], 'v1': ['f1'], 'v3': ['f1'], 'f#': [''], 's27': ['f1'], '4+': ['f1'], '6+': ['f1'], 'z1': ['f1'], 'b1*': [''], 'f3*': [''], 'm2': ['f1'], 'f17': ['f1'], 'r3': ['f1'], 's': ['f1'], 'r1': ['f1'], 's29': ['f1'], 's38': ['f1'], 'b+1': ['f1'], 'z2': ['f1'], 'o3': ['f1'], 'c6': ['f1'], 'v2': ['f1'], 'c4': ['f1'], 'b1w@': [''], 'b#': [''], 'b1n@': [''], 'b+3': ['f1'], 'f19': ['f1'], 'b3*': [''], 'f+2': ['f1'], 'f1w@': [''], 'b3w@': [''], 's37': ['f1'], 's39': ['f1'], 'f3n@': [''], 'f3w@': [''], 'm3': ['f1'], 'f1n@': [''], 'b1d@': [''], 'b2n#': [''], 'f2d@': [''], 'f1n#': [''], 'b1w#': [''], 's#': [''], 'b1n#': [''], 'x@': [''], 'f1w#': [''], 'y3': ['f1'], 'f2d#': [''], 'b2d@': [''], 'f2n#': [''], 'f3d@': [''], 'y1': ['f1'], 'b3w#': [''], 'o1': ['f1'], 'f-3': ['f1']}\n"
     ]
    }
   ],
   "source": [
    "print(fed_strat)"
   ]
  },
  {
   "cell_type": "code",
   "execution_count": null,
   "metadata": {},
   "outputs": [],
   "source": []
  }
 ],
 "metadata": {
  "kernelspec": {
   "display_name": "Python 3",
   "language": "python",
   "name": "python3"
  },
  "language_info": {
   "codemirror_mode": {
    "name": "ipython",
    "version": 3
   },
   "file_extension": ".py",
   "mimetype": "text/x-python",
   "name": "python",
   "nbconvert_exporter": "python",
   "pygments_lexer": "ipython3",
   "version": "3.6.7"
  },
  "toc": {
   "base_numbering": 1,
   "nav_menu": {},
   "number_sections": true,
   "sideBar": true,
   "skip_h1_title": true,
   "title_cell": "Table of Contents",
   "title_sidebar": "Contents",
   "toc_cell": true,
   "toc_position": {},
   "toc_section_display": true,
   "toc_window_display": true
  },
  "varInspector": {
   "cols": {
    "lenName": 16,
    "lenType": 16,
    "lenVar": 40
   },
   "kernels_config": {
    "python": {
     "delete_cmd_postfix": "",
     "delete_cmd_prefix": "del ",
     "library": "var_list.py",
     "varRefreshCmd": "print(var_dic_list())"
    },
    "r": {
     "delete_cmd_postfix": ") ",
     "delete_cmd_prefix": "rm(",
     "library": "var_list.r",
     "varRefreshCmd": "cat(var_dic_list()) "
    }
   },
   "types_to_exclude": [
    "module",
    "function",
    "builtin_function_or_method",
    "instance",
    "_Feature"
   ],
   "window_display": false
  }
 },
 "nbformat": 4,
 "nbformat_minor": 2
}
